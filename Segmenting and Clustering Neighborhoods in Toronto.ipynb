{
    "nbformat_minor": 1, 
    "cells": [
        {
            "source": "Install the BeautifulSoup package", 
            "cell_type": "markdown", 
            "metadata": {}
        }, 
        {
            "execution_count": 2, 
            "cell_type": "code", 
            "metadata": {}, 
            "outputs": [
                {
                    "output_type": "stream", 
                    "name": "stdout", 
                    "text": "Fetching package metadata ...........\nSolving package specifications: .\n\nPackage plan for installation in environment /opt/conda/envs/DSX-Python35:\n\nThe following packages will be UPDATED:\n\n    beautifulsoup4: 4.6.0-py35h442a8c9_1 --> 4.6.3-py35_0\n\nbeautifulsoup4 100% |################################| Time: 0:00:00  37.33 MB/s\n"
                }
            ], 
            "source": "!conda install --yes beautifulsoup4"
        }, 
        {
            "execution_count": 3, 
            "cell_type": "code", 
            "metadata": {}, 
            "outputs": [], 
            "source": "import requests\nimport pandas as pd\nimport numpy as np\nfrom bs4 import BeautifulSoup"
        }, 
        {
            "source": "Download the given Wikipedia page and load the table contents into a Python array", 
            "cell_type": "markdown", 
            "metadata": {}
        }, 
        {
            "execution_count": 4, 
            "cell_type": "code", 
            "metadata": {}, 
            "outputs": [], 
            "source": "url = \"https://en.wikipedia.org/wiki/List_of_postal_codes_of_Canada:_M\" \nresponse = requests.get(url)\n\nsoup = BeautifulSoup(response.content, \"html.parser\")"
        }, 
        {
            "execution_count": 5, 
            "cell_type": "code", 
            "metadata": {}, 
            "outputs": [], 
            "source": "# class=\"wikitable sortable\"\n\npostal_codes = []\n\nfor tr in soup.table.find_all('tr')[1:]:\n    tds = tr.find_all('td')\n    try:\n        # print (\"Postcode: %s, Borough: %s, Neighbourhood: %s\" % (tds[0].text, tds[1].text, tds[2].text))\n        postal_codes.append([tds[0].text, tds[1].text, tds[2].text.rstrip()])\n    except:\n        next"
        }, 
        {
            "source": "Create dataframe from the parsed array of values", 
            "cell_type": "markdown", 
            "metadata": {}
        }, 
        {
            "execution_count": 6, 
            "cell_type": "code", 
            "metadata": {
                "collapsed": true
            }, 
            "outputs": [
                {
                    "execution_count": 6, 
                    "metadata": {}, 
                    "data": {
                        "text/html": "<div>\n<style scoped>\n    .dataframe tbody tr th:only-of-type {\n        vertical-align: middle;\n    }\n\n    .dataframe tbody tr th {\n        vertical-align: top;\n    }\n\n    .dataframe thead th {\n        text-align: right;\n    }\n</style>\n<table border=\"1\" class=\"dataframe\">\n  <thead>\n    <tr style=\"text-align: right;\">\n      <th></th>\n      <th>PostalCode</th>\n      <th>Borough</th>\n      <th>Neighborhood</th>\n    </tr>\n  </thead>\n  <tbody>\n    <tr>\n      <th>0</th>\n      <td>M1A</td>\n      <td>Not assigned</td>\n      <td>Not assigned</td>\n    </tr>\n    <tr>\n      <th>1</th>\n      <td>M2A</td>\n      <td>Not assigned</td>\n      <td>Not assigned</td>\n    </tr>\n    <tr>\n      <th>2</th>\n      <td>M3A</td>\n      <td>North York</td>\n      <td>Parkwoods</td>\n    </tr>\n    <tr>\n      <th>3</th>\n      <td>M4A</td>\n      <td>North York</td>\n      <td>Victoria Village</td>\n    </tr>\n    <tr>\n      <th>4</th>\n      <td>M5A</td>\n      <td>Downtown Toronto</td>\n      <td>Harbourfront</td>\n    </tr>\n  </tbody>\n</table>\n</div>", 
                        "text/plain": "  PostalCode           Borough      Neighborhood\n0        M1A      Not assigned      Not assigned\n1        M2A      Not assigned      Not assigned\n2        M3A        North York         Parkwoods\n3        M4A        North York  Victoria Village\n4        M5A  Downtown Toronto      Harbourfront"
                    }, 
                    "output_type": "execute_result"
                }
            ], 
            "source": "postal_codes_df = pd.DataFrame(data=postal_codes, columns=['PostalCode', 'Borough', 'Neighborhood'])\npostal_codes_df.head()"
        }, 
        {
            "source": "Check the size of the newly created dataframe", 
            "cell_type": "markdown", 
            "metadata": {}
        }, 
        {
            "execution_count": 7, 
            "cell_type": "code", 
            "metadata": {}, 
            "outputs": [
                {
                    "execution_count": 7, 
                    "metadata": {}, 
                    "data": {
                        "text/plain": "(288, 3)"
                    }, 
                    "output_type": "execute_result"
                }
            ], 
            "source": "postal_codes_df.shape"
        }, 
        {
            "source": "Delete rows from the dataframe where Borough has the 'Not assigned' value and assign the Borough name to the Neighborhood\nin case the Neighborhood is 'Not assigned'", 
            "cell_type": "markdown", 
            "metadata": {}
        }, 
        {
            "execution_count": 8, 
            "cell_type": "code", 
            "metadata": {}, 
            "outputs": [], 
            "source": "postal_codes_df.drop(postal_codes_df[postal_codes_df['Borough']=='Not assigned'].index, axis=0, inplace=True)\npostal_codes_df.loc[postal_codes_df['Neighborhood']=='Not assigned', 'Neighborhood'] = postal_codes_df[postal_codes_df['Neighborhood']=='Not assigned']['Borough']"
        }, 
        {
            "source": "Do some sanity check to see whether we have missed any data cleaning", 
            "cell_type": "markdown", 
            "metadata": {}
        }, 
        {
            "execution_count": 9, 
            "cell_type": "code", 
            "metadata": {}, 
            "outputs": [
                {
                    "execution_count": 9, 
                    "metadata": {}, 
                    "data": {
                        "text/html": "<div>\n<style scoped>\n    .dataframe tbody tr th:only-of-type {\n        vertical-align: middle;\n    }\n\n    .dataframe tbody tr th {\n        vertical-align: top;\n    }\n\n    .dataframe thead th {\n        text-align: right;\n    }\n</style>\n<table border=\"1\" class=\"dataframe\">\n  <thead>\n    <tr style=\"text-align: right;\">\n      <th></th>\n      <th>PostalCode</th>\n      <th>Borough</th>\n      <th>Neighborhood</th>\n    </tr>\n  </thead>\n  <tbody>\n  </tbody>\n</table>\n</div>", 
                        "text/plain": "Empty DataFrame\nColumns: [PostalCode, Borough, Neighborhood]\nIndex: []"
                    }, 
                    "output_type": "execute_result"
                }
            ], 
            "source": "postal_codes_df[postal_codes_df['Neighborhood']=='Not assigned']"
        }, 
        {
            "execution_count": 10, 
            "cell_type": "code", 
            "metadata": {
                "collapsed": true
            }, 
            "outputs": [
                {
                    "execution_count": 10, 
                    "metadata": {}, 
                    "data": {
                        "text/html": "<div>\n<style scoped>\n    .dataframe tbody tr th:only-of-type {\n        vertical-align: middle;\n    }\n\n    .dataframe tbody tr th {\n        vertical-align: top;\n    }\n\n    .dataframe thead th {\n        text-align: right;\n    }\n</style>\n<table border=\"1\" class=\"dataframe\">\n  <thead>\n    <tr style=\"text-align: right;\">\n      <th></th>\n      <th>PostalCode</th>\n      <th>Borough</th>\n      <th>Neighborhood</th>\n    </tr>\n  </thead>\n  <tbody>\n    <tr>\n      <th>2</th>\n      <td>M3A</td>\n      <td>North York</td>\n      <td>Parkwoods</td>\n    </tr>\n    <tr>\n      <th>3</th>\n      <td>M4A</td>\n      <td>North York</td>\n      <td>Victoria Village</td>\n    </tr>\n    <tr>\n      <th>4</th>\n      <td>M5A</td>\n      <td>Downtown Toronto</td>\n      <td>Harbourfront</td>\n    </tr>\n    <tr>\n      <th>5</th>\n      <td>M5A</td>\n      <td>Downtown Toronto</td>\n      <td>Regent Park</td>\n    </tr>\n    <tr>\n      <th>6</th>\n      <td>M6A</td>\n      <td>North York</td>\n      <td>Lawrence Heights</td>\n    </tr>\n    <tr>\n      <th>7</th>\n      <td>M6A</td>\n      <td>North York</td>\n      <td>Lawrence Manor</td>\n    </tr>\n    <tr>\n      <th>8</th>\n      <td>M7A</td>\n      <td>Queen's Park</td>\n      <td>Queen's Park</td>\n    </tr>\n    <tr>\n      <th>10</th>\n      <td>M9A</td>\n      <td>Etobicoke</td>\n      <td>Islington Avenue</td>\n    </tr>\n    <tr>\n      <th>11</th>\n      <td>M1B</td>\n      <td>Scarborough</td>\n      <td>Rouge</td>\n    </tr>\n    <tr>\n      <th>12</th>\n      <td>M1B</td>\n      <td>Scarborough</td>\n      <td>Malvern</td>\n    </tr>\n  </tbody>\n</table>\n</div>", 
                        "text/plain": "   PostalCode           Borough      Neighborhood\n2         M3A        North York         Parkwoods\n3         M4A        North York  Victoria Village\n4         M5A  Downtown Toronto      Harbourfront\n5         M5A  Downtown Toronto       Regent Park\n6         M6A        North York  Lawrence Heights\n7         M6A        North York    Lawrence Manor\n8         M7A      Queen's Park      Queen's Park\n10        M9A         Etobicoke  Islington Avenue\n11        M1B       Scarborough             Rouge\n12        M1B       Scarborough           Malvern"
                    }, 
                    "output_type": "execute_result"
                }
            ], 
            "source": "postal_codes_df.head(10)"
        }, 
        {
            "source": "Check the number of PostalCodes by doing a group by ...", 
            "cell_type": "markdown", 
            "metadata": {}
        }, 
        {
            "execution_count": 11, 
            "cell_type": "code", 
            "metadata": {
                "collapsed": true
            }, 
            "outputs": [
                {
                    "execution_count": 11, 
                    "metadata": {}, 
                    "data": {
                        "text/html": "<div>\n<style scoped>\n    .dataframe tbody tr th:only-of-type {\n        vertical-align: middle;\n    }\n\n    .dataframe tbody tr th {\n        vertical-align: top;\n    }\n\n    .dataframe thead th {\n        text-align: right;\n    }\n</style>\n<table border=\"1\" class=\"dataframe\">\n  <thead>\n    <tr style=\"text-align: right;\">\n      <th></th>\n      <th>Borough</th>\n      <th>Neighborhood</th>\n    </tr>\n    <tr>\n      <th>PostalCode</th>\n      <th></th>\n      <th></th>\n    </tr>\n  </thead>\n  <tbody>\n    <tr>\n      <th>M1B</th>\n      <td>2</td>\n      <td>2</td>\n    </tr>\n    <tr>\n      <th>M1C</th>\n      <td>3</td>\n      <td>3</td>\n    </tr>\n    <tr>\n      <th>M1E</th>\n      <td>3</td>\n      <td>3</td>\n    </tr>\n    <tr>\n      <th>M1G</th>\n      <td>1</td>\n      <td>1</td>\n    </tr>\n    <tr>\n      <th>M1H</th>\n      <td>1</td>\n      <td>1</td>\n    </tr>\n    <tr>\n      <th>M1J</th>\n      <td>1</td>\n      <td>1</td>\n    </tr>\n    <tr>\n      <th>M1K</th>\n      <td>3</td>\n      <td>3</td>\n    </tr>\n    <tr>\n      <th>M1L</th>\n      <td>3</td>\n      <td>3</td>\n    </tr>\n    <tr>\n      <th>M1M</th>\n      <td>3</td>\n      <td>3</td>\n    </tr>\n    <tr>\n      <th>M1N</th>\n      <td>2</td>\n      <td>2</td>\n    </tr>\n    <tr>\n      <th>M1P</th>\n      <td>3</td>\n      <td>3</td>\n    </tr>\n    <tr>\n      <th>M1R</th>\n      <td>2</td>\n      <td>2</td>\n    </tr>\n    <tr>\n      <th>M1S</th>\n      <td>1</td>\n      <td>1</td>\n    </tr>\n    <tr>\n      <th>M1T</th>\n      <td>3</td>\n      <td>3</td>\n    </tr>\n    <tr>\n      <th>M1V</th>\n      <td>4</td>\n      <td>4</td>\n    </tr>\n    <tr>\n      <th>M1W</th>\n      <td>1</td>\n      <td>1</td>\n    </tr>\n    <tr>\n      <th>M1X</th>\n      <td>1</td>\n      <td>1</td>\n    </tr>\n    <tr>\n      <th>M2H</th>\n      <td>1</td>\n      <td>1</td>\n    </tr>\n    <tr>\n      <th>M2J</th>\n      <td>3</td>\n      <td>3</td>\n    </tr>\n    <tr>\n      <th>M2K</th>\n      <td>1</td>\n      <td>1</td>\n    </tr>\n    <tr>\n      <th>M2L</th>\n      <td>2</td>\n      <td>2</td>\n    </tr>\n    <tr>\n      <th>M2M</th>\n      <td>2</td>\n      <td>2</td>\n    </tr>\n    <tr>\n      <th>M2N</th>\n      <td>1</td>\n      <td>1</td>\n    </tr>\n    <tr>\n      <th>M2P</th>\n      <td>1</td>\n      <td>1</td>\n    </tr>\n    <tr>\n      <th>M2R</th>\n      <td>1</td>\n      <td>1</td>\n    </tr>\n    <tr>\n      <th>M3A</th>\n      <td>1</td>\n      <td>1</td>\n    </tr>\n    <tr>\n      <th>M3B</th>\n      <td>1</td>\n      <td>1</td>\n    </tr>\n    <tr>\n      <th>M3C</th>\n      <td>2</td>\n      <td>2</td>\n    </tr>\n    <tr>\n      <th>M3H</th>\n      <td>3</td>\n      <td>3</td>\n    </tr>\n    <tr>\n      <th>M3J</th>\n      <td>2</td>\n      <td>2</td>\n    </tr>\n    <tr>\n      <th>...</th>\n      <td>...</td>\n      <td>...</td>\n    </tr>\n    <tr>\n      <th>M6C</th>\n      <td>1</td>\n      <td>1</td>\n    </tr>\n    <tr>\n      <th>M6E</th>\n      <td>1</td>\n      <td>1</td>\n    </tr>\n    <tr>\n      <th>M6G</th>\n      <td>1</td>\n      <td>1</td>\n    </tr>\n    <tr>\n      <th>M6H</th>\n      <td>2</td>\n      <td>2</td>\n    </tr>\n    <tr>\n      <th>M6J</th>\n      <td>2</td>\n      <td>2</td>\n    </tr>\n    <tr>\n      <th>M6K</th>\n      <td>3</td>\n      <td>3</td>\n    </tr>\n    <tr>\n      <th>M6L</th>\n      <td>3</td>\n      <td>3</td>\n    </tr>\n    <tr>\n      <th>M6M</th>\n      <td>4</td>\n      <td>4</td>\n    </tr>\n    <tr>\n      <th>M6N</th>\n      <td>2</td>\n      <td>2</td>\n    </tr>\n    <tr>\n      <th>M6P</th>\n      <td>2</td>\n      <td>2</td>\n    </tr>\n    <tr>\n      <th>M6R</th>\n      <td>2</td>\n      <td>2</td>\n    </tr>\n    <tr>\n      <th>M6S</th>\n      <td>2</td>\n      <td>2</td>\n    </tr>\n    <tr>\n      <th>M7A</th>\n      <td>1</td>\n      <td>1</td>\n    </tr>\n    <tr>\n      <th>M7R</th>\n      <td>1</td>\n      <td>1</td>\n    </tr>\n    <tr>\n      <th>M7Y</th>\n      <td>1</td>\n      <td>1</td>\n    </tr>\n    <tr>\n      <th>M8V</th>\n      <td>3</td>\n      <td>3</td>\n    </tr>\n    <tr>\n      <th>M8W</th>\n      <td>2</td>\n      <td>2</td>\n    </tr>\n    <tr>\n      <th>M8X</th>\n      <td>3</td>\n      <td>3</td>\n    </tr>\n    <tr>\n      <th>M8Y</th>\n      <td>8</td>\n      <td>8</td>\n    </tr>\n    <tr>\n      <th>M8Z</th>\n      <td>5</td>\n      <td>5</td>\n    </tr>\n    <tr>\n      <th>M9A</th>\n      <td>1</td>\n      <td>1</td>\n    </tr>\n    <tr>\n      <th>M9B</th>\n      <td>5</td>\n      <td>5</td>\n    </tr>\n    <tr>\n      <th>M9C</th>\n      <td>4</td>\n      <td>4</td>\n    </tr>\n    <tr>\n      <th>M9L</th>\n      <td>1</td>\n      <td>1</td>\n    </tr>\n    <tr>\n      <th>M9M</th>\n      <td>2</td>\n      <td>2</td>\n    </tr>\n    <tr>\n      <th>M9N</th>\n      <td>1</td>\n      <td>1</td>\n    </tr>\n    <tr>\n      <th>M9P</th>\n      <td>1</td>\n      <td>1</td>\n    </tr>\n    <tr>\n      <th>M9R</th>\n      <td>4</td>\n      <td>4</td>\n    </tr>\n    <tr>\n      <th>M9V</th>\n      <td>8</td>\n      <td>8</td>\n    </tr>\n    <tr>\n      <th>M9W</th>\n      <td>1</td>\n      <td>1</td>\n    </tr>\n  </tbody>\n</table>\n<p>103 rows \u00d7 2 columns</p>\n</div>", 
                        "text/plain": "            Borough  Neighborhood\nPostalCode                       \nM1B               2             2\nM1C               3             3\nM1E               3             3\nM1G               1             1\nM1H               1             1\nM1J               1             1\nM1K               3             3\nM1L               3             3\nM1M               3             3\nM1N               2             2\nM1P               3             3\nM1R               2             2\nM1S               1             1\nM1T               3             3\nM1V               4             4\nM1W               1             1\nM1X               1             1\nM2H               1             1\nM2J               3             3\nM2K               1             1\nM2L               2             2\nM2M               2             2\nM2N               1             1\nM2P               1             1\nM2R               1             1\nM3A               1             1\nM3B               1             1\nM3C               2             2\nM3H               3             3\nM3J               2             2\n...             ...           ...\nM6C               1             1\nM6E               1             1\nM6G               1             1\nM6H               2             2\nM6J               2             2\nM6K               3             3\nM6L               3             3\nM6M               4             4\nM6N               2             2\nM6P               2             2\nM6R               2             2\nM6S               2             2\nM7A               1             1\nM7R               1             1\nM7Y               1             1\nM8V               3             3\nM8W               2             2\nM8X               3             3\nM8Y               8             8\nM8Z               5             5\nM9A               1             1\nM9B               5             5\nM9C               4             4\nM9L               1             1\nM9M               2             2\nM9N               1             1\nM9P               1             1\nM9R               4             4\nM9V               8             8\nM9W               1             1\n\n[103 rows x 2 columns]"
                    }, 
                    "output_type": "execute_result"
                }
            ], 
            "source": "grouped = postal_codes_df.groupby('PostalCode').count()\ngrouped"
        }, 
        {
            "source": "Combine rows into one row with the neighborhoods separated with a comma for those rows where the PostalCode is the same", 
            "cell_type": "markdown", 
            "metadata": {}
        }, 
        {
            "execution_count": 12, 
            "cell_type": "code", 
            "metadata": {}, 
            "outputs": [], 
            "source": "postal_codes_df = postal_codes_df.groupby('PostalCode', as_index=False).agg({'Borough' : 'first', 'Neighborhood' : ', '.join})\npostal_codes_df = postal_codes_df[['PostalCode', 'Borough', 'Neighborhood']]"
        }, 
        {
            "execution_count": 13, 
            "cell_type": "code", 
            "metadata": {}, 
            "outputs": [
                {
                    "execution_count": 13, 
                    "metadata": {}, 
                    "data": {
                        "text/plain": "(103, 3)"
                    }, 
                    "output_type": "execute_result"
                }
            ], 
            "source": "#postal_codes_df[postal_codes_df['PostalCode']=='M9V']\npostal_codes_df.shape"
        }, 
        {
            "execution_count": null, 
            "cell_type": "code", 
            "metadata": {}, 
            "outputs": [], 
            "source": ""
        }
    ], 
    "metadata": {
        "kernelspec": {
            "display_name": "Python 3.5", 
            "name": "python3", 
            "language": "python"
        }, 
        "language_info": {
            "mimetype": "text/x-python", 
            "nbconvert_exporter": "python", 
            "version": "3.5.5", 
            "name": "python", 
            "file_extension": ".py", 
            "pygments_lexer": "ipython3", 
            "codemirror_mode": {
                "version": 3, 
                "name": "ipython"
            }
        }
    }, 
    "nbformat": 4
}